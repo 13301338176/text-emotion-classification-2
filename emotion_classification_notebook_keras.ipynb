{
 "cells": [
  {
   "cell_type": "markdown",
   "metadata": {},
   "source": [
    "Perform the necessary imports"
   ]
  },
  {
   "cell_type": "code",
   "execution_count": 491,
   "metadata": {},
   "outputs": [],
   "source": [
    "import numpy as np\n",
    "import pandas as pd\n",
    "import tensorflow as tf\n",
    "from tensorflow.python.keras.preprocessing import text, sequence\n",
    "from tensorflow.python.keras.models import Sequential\n",
    "from tensorflow.python.keras.layers import Embedding, Conv1D, GlobalMaxPooling1D, Activation, Dropout, Dense\n",
    "from sklearn.model_selection import train_test_split"
   ]
  },
  {
   "cell_type": "markdown",
   "metadata": {},
   "source": [
    "****************************************************************************************************"
   ]
  },
  {
   "cell_type": "markdown",
   "metadata": {},
   "source": [
    "So, here's what we'll do.\n",
    "\n",
    "1.Understand the data using visualization\n",
    "\n",
    "2.Use pandas to do data manipulation such as fill NaNs', drop redundant training examples, generate labels etc.,\n",
    "\n",
    "3.Convert the text into a sequence(list of lists(sequence)), using tokenizer. Pad the sequence to form a 2D numpy array.\n",
    "\n",
    "4.Build the Neural Network Model using Keras.\n",
    "\n",
    "5.Train the model using an optimizer such as 'adam' or 'adagrad' and loss function 'binary_cross_entropy'. \n",
    "\n",
    "6.Start predicting!"
   ]
  },
  {
   "cell_type": "markdown",
   "metadata": {},
   "source": [
    "****************************************************************************************************"
   ]
  },
  {
   "cell_type": "markdown",
   "metadata": {},
   "source": [
    "1.Data visualization "
   ]
  },
  {
   "cell_type": "code",
   "execution_count": 492,
   "metadata": {},
   "outputs": [
    {
     "data": {
      "text/html": [
       "<div>\n",
       "<style scoped>\n",
       "    .dataframe tbody tr th:only-of-type {\n",
       "        vertical-align: middle;\n",
       "    }\n",
       "\n",
       "    .dataframe tbody tr th {\n",
       "        vertical-align: top;\n",
       "    }\n",
       "\n",
       "    .dataframe thead th {\n",
       "        text-align: right;\n",
       "    }\n",
       "</style>\n",
       "<table border=\"1\" class=\"dataframe\">\n",
       "  <thead>\n",
       "    <tr style=\"text-align: right;\">\n",
       "      <th></th>\n",
       "      <th>tweet_id</th>\n",
       "      <th>sentiment</th>\n",
       "      <th>author</th>\n",
       "      <th>content</th>\n",
       "    </tr>\n",
       "  </thead>\n",
       "  <tbody>\n",
       "    <tr>\n",
       "      <th>0</th>\n",
       "      <td>1956967341</td>\n",
       "      <td>empty</td>\n",
       "      <td>xoshayzers</td>\n",
       "      <td>@tiffanylue i know  i was listenin to bad habi...</td>\n",
       "    </tr>\n",
       "    <tr>\n",
       "      <th>1</th>\n",
       "      <td>1956967666</td>\n",
       "      <td>sadness</td>\n",
       "      <td>wannamama</td>\n",
       "      <td>Layin n bed with a headache  ughhhh...waitin o...</td>\n",
       "    </tr>\n",
       "    <tr>\n",
       "      <th>2</th>\n",
       "      <td>1956967696</td>\n",
       "      <td>sadness</td>\n",
       "      <td>coolfunky</td>\n",
       "      <td>Funeral ceremony...gloomy friday...</td>\n",
       "    </tr>\n",
       "    <tr>\n",
       "      <th>3</th>\n",
       "      <td>1956967789</td>\n",
       "      <td>enthusiasm</td>\n",
       "      <td>czareaquino</td>\n",
       "      <td>wants to hang out with friends SOON!</td>\n",
       "    </tr>\n",
       "    <tr>\n",
       "      <th>4</th>\n",
       "      <td>1956968416</td>\n",
       "      <td>neutral</td>\n",
       "      <td>xkilljoyx</td>\n",
       "      <td>@dannycastillo We want to trade with someone w...</td>\n",
       "    </tr>\n",
       "  </tbody>\n",
       "</table>\n",
       "</div>"
      ],
      "text/plain": [
       "     tweet_id   sentiment       author  \\\n",
       "0  1956967341       empty   xoshayzers   \n",
       "1  1956967666     sadness    wannamama   \n",
       "2  1956967696     sadness    coolfunky   \n",
       "3  1956967789  enthusiasm  czareaquino   \n",
       "4  1956968416     neutral    xkilljoyx   \n",
       "\n",
       "                                             content  \n",
       "0  @tiffanylue i know  i was listenin to bad habi...  \n",
       "1  Layin n bed with a headache  ughhhh...waitin o...  \n",
       "2                Funeral ceremony...gloomy friday...  \n",
       "3               wants to hang out with friends SOON!  \n",
       "4  @dannycastillo We want to trade with someone w...  "
      ]
     },
     "execution_count": 492,
     "metadata": {},
     "output_type": "execute_result"
    }
   ],
   "source": [
    "train_df = pd.read_csv('data/text_emotion_train_val_set.csv')\n",
    "train_df.head()"
   ]
  },
  {
   "cell_type": "code",
   "execution_count": 493,
   "metadata": {},
   "outputs": [
    {
     "data": {
      "text/html": [
       "<div>\n",
       "<style scoped>\n",
       "    .dataframe tbody tr th:only-of-type {\n",
       "        vertical-align: middle;\n",
       "    }\n",
       "\n",
       "    .dataframe tbody tr th {\n",
       "        vertical-align: top;\n",
       "    }\n",
       "\n",
       "    .dataframe thead th {\n",
       "        text-align: right;\n",
       "    }\n",
       "</style>\n",
       "<table border=\"1\" class=\"dataframe\">\n",
       "  <thead>\n",
       "    <tr style=\"text-align: right;\">\n",
       "      <th></th>\n",
       "      <th>tweet_id</th>\n",
       "      <th>sentiment</th>\n",
       "      <th>author</th>\n",
       "      <th>content</th>\n",
       "    </tr>\n",
       "  </thead>\n",
       "  <tbody>\n",
       "    <tr>\n",
       "      <th>39995</th>\n",
       "      <td>1753918954</td>\n",
       "      <td>neutral</td>\n",
       "      <td>showMe_Heaven</td>\n",
       "      <td>@JohnLloydTaylor</td>\n",
       "    </tr>\n",
       "    <tr>\n",
       "      <th>39996</th>\n",
       "      <td>1753919001</td>\n",
       "      <td>love</td>\n",
       "      <td>drapeaux</td>\n",
       "      <td>Happy Mothers Day  All my love</td>\n",
       "    </tr>\n",
       "    <tr>\n",
       "      <th>39997</th>\n",
       "      <td>1753919005</td>\n",
       "      <td>love</td>\n",
       "      <td>JenniRox</td>\n",
       "      <td>Happy Mother's Day to all the mommies out ther...</td>\n",
       "    </tr>\n",
       "    <tr>\n",
       "      <th>39998</th>\n",
       "      <td>1753919043</td>\n",
       "      <td>happiness</td>\n",
       "      <td>ipdaman1</td>\n",
       "      <td>@niariley WASSUP BEAUTIFUL!!! FOLLOW ME!!  PEE...</td>\n",
       "    </tr>\n",
       "    <tr>\n",
       "      <th>39999</th>\n",
       "      <td>1753919049</td>\n",
       "      <td>love</td>\n",
       "      <td>Alpharalpha</td>\n",
       "      <td>@mopedronin bullet train from tokyo    the gf ...</td>\n",
       "    </tr>\n",
       "  </tbody>\n",
       "</table>\n",
       "</div>"
      ],
      "text/plain": [
       "         tweet_id  sentiment         author  \\\n",
       "39995  1753918954    neutral  showMe_Heaven   \n",
       "39996  1753919001       love       drapeaux   \n",
       "39997  1753919005       love       JenniRox   \n",
       "39998  1753919043  happiness       ipdaman1   \n",
       "39999  1753919049       love    Alpharalpha   \n",
       "\n",
       "                                                 content  \n",
       "39995                                   @JohnLloydTaylor  \n",
       "39996                     Happy Mothers Day  All my love  \n",
       "39997  Happy Mother's Day to all the mommies out ther...  \n",
       "39998  @niariley WASSUP BEAUTIFUL!!! FOLLOW ME!!  PEE...  \n",
       "39999  @mopedronin bullet train from tokyo    the gf ...  "
      ]
     },
     "execution_count": 493,
     "metadata": {},
     "output_type": "execute_result"
    }
   ],
   "source": [
    "train_df.tail()"
   ]
  },
  {
   "cell_type": "code",
   "execution_count": 494,
   "metadata": {},
   "outputs": [
    {
     "name": "stdout",
     "output_type": "stream",
     "text": [
      "40000\n",
      "<class 'pandas.core.frame.DataFrame'>\n",
      "2\n",
      "(40000, 4)\n",
      "tweet_id      int64\n",
      "sentiment    object\n",
      "author       object\n",
      "content      object\n",
      "dtype: object\n",
      "160000\n"
     ]
    }
   ],
   "source": [
    "print(len(train_df))\n",
    "print(type(train_df))\n",
    "print(train_df.ndim)\n",
    "print(train_df.shape)\n",
    "print(train_df.dtypes)\n",
    "print(train_df.size)"
   ]
  },
  {
   "cell_type": "code",
   "execution_count": 495,
   "metadata": {},
   "outputs": [],
   "source": [
    "train_df = train_df.drop(['tweet_id', 'author'], axis=1)"
   ]
  },
  {
   "cell_type": "code",
   "execution_count": 496,
   "metadata": {},
   "outputs": [
    {
     "data": {
      "text/html": [
       "<div>\n",
       "<style scoped>\n",
       "    .dataframe tbody tr th:only-of-type {\n",
       "        vertical-align: middle;\n",
       "    }\n",
       "\n",
       "    .dataframe tbody tr th {\n",
       "        vertical-align: top;\n",
       "    }\n",
       "\n",
       "    .dataframe thead th {\n",
       "        text-align: right;\n",
       "    }\n",
       "</style>\n",
       "<table border=\"1\" class=\"dataframe\">\n",
       "  <thead>\n",
       "    <tr style=\"text-align: right;\">\n",
       "      <th></th>\n",
       "      <th>sentiment</th>\n",
       "      <th>content</th>\n",
       "    </tr>\n",
       "  </thead>\n",
       "  <tbody>\n",
       "    <tr>\n",
       "      <th>0</th>\n",
       "      <td>empty</td>\n",
       "      <td>@tiffanylue i know  i was listenin to bad habi...</td>\n",
       "    </tr>\n",
       "    <tr>\n",
       "      <th>1</th>\n",
       "      <td>sadness</td>\n",
       "      <td>Layin n bed with a headache  ughhhh...waitin o...</td>\n",
       "    </tr>\n",
       "    <tr>\n",
       "      <th>2</th>\n",
       "      <td>sadness</td>\n",
       "      <td>Funeral ceremony...gloomy friday...</td>\n",
       "    </tr>\n",
       "    <tr>\n",
       "      <th>3</th>\n",
       "      <td>enthusiasm</td>\n",
       "      <td>wants to hang out with friends SOON!</td>\n",
       "    </tr>\n",
       "    <tr>\n",
       "      <th>4</th>\n",
       "      <td>neutral</td>\n",
       "      <td>@dannycastillo We want to trade with someone w...</td>\n",
       "    </tr>\n",
       "  </tbody>\n",
       "</table>\n",
       "</div>"
      ],
      "text/plain": [
       "    sentiment                                            content\n",
       "0       empty  @tiffanylue i know  i was listenin to bad habi...\n",
       "1     sadness  Layin n bed with a headache  ughhhh...waitin o...\n",
       "2     sadness                Funeral ceremony...gloomy friday...\n",
       "3  enthusiasm               wants to hang out with friends SOON!\n",
       "4     neutral  @dannycastillo We want to trade with someone w..."
      ]
     },
     "execution_count": 496,
     "metadata": {},
     "output_type": "execute_result"
    }
   ],
   "source": [
    "train_df.head()"
   ]
  },
  {
   "cell_type": "code",
   "execution_count": 497,
   "metadata": {},
   "outputs": [
    {
     "data": {
      "text/plain": [
       "(40000, 2)"
      ]
     },
     "execution_count": 497,
     "metadata": {},
     "output_type": "execute_result"
    }
   ],
   "source": [
    "train_df.shape"
   ]
  },
  {
   "cell_type": "code",
   "execution_count": 498,
   "metadata": {},
   "outputs": [
    {
     "data": {
      "text/plain": [
       "neutral       8638\n",
       "worry         8459\n",
       "happiness     5209\n",
       "sadness       5165\n",
       "love          3842\n",
       "surprise      2187\n",
       "fun           1776\n",
       "relief        1526\n",
       "hate          1323\n",
       "empty          827\n",
       "enthusiasm     759\n",
       "boredom        179\n",
       "anger          110\n",
       "Name: sentiment, dtype: int64"
      ]
     },
     "execution_count": 498,
     "metadata": {},
     "output_type": "execute_result"
    }
   ],
   "source": [
    "train_df['sentiment'].value_counts()"
   ]
  },
  {
   "cell_type": "code",
   "execution_count": 499,
   "metadata": {},
   "outputs": [
    {
     "data": {
      "text/plain": [
       "<matplotlib.axes._subplots.AxesSubplot at 0x1d0b012c320>"
      ]
     },
     "execution_count": 499,
     "metadata": {},
     "output_type": "execute_result"
    },
    {
     "data": {
      "image/png": "[encoded data removed]",
      "text/plain": [
       "<matplotlib.figure.Figure at 0x1d0af962940>"
      ]
     },
     "metadata": {},
     "output_type": "display_data"
    }
   ],
   "source": [
    "train_df['sentiment'].value_counts().plot.bar()"
   ]
  },
  {
   "cell_type": "code",
   "execution_count": 500,
   "metadata": {},
   "outputs": [
    {
     "data": {
      "text/plain": [
       "neutral       0.215950\n",
       "worry         0.211475\n",
       "happiness     0.130225\n",
       "sadness       0.129125\n",
       "love          0.096050\n",
       "surprise      0.054675\n",
       "fun           0.044400\n",
       "relief        0.038150\n",
       "hate          0.033075\n",
       "empty         0.020675\n",
       "enthusiasm    0.018975\n",
       "boredom       0.004475\n",
       "anger         0.002750\n",
       "Name: sentiment, dtype: float64"
      ]
     },
     "execution_count": 500,
     "metadata": {},
     "output_type": "execute_result"
    }
   ],
   "source": [
    "train_df['sentiment'].value_counts() / len(train_df)"
   ]
  },
  {
   "cell_type": "code",
   "execution_count": 501,
   "metadata": {},
   "outputs": [
    {
     "data": {
      "text/plain": [
       "<matplotlib.axes._subplots.AxesSubplot at 0x1d0b01aa6a0>"
      ]
     },
     "execution_count": 501,
     "metadata": {},
     "output_type": "execute_result"
    },
    {
     "data": {
      "image/png": "[encoded data removed]",
      "text/plain": [
       "<matplotlib.figure.Figure at 0x1d0af962b70>"
      ]
     },
     "metadata": {},
     "output_type": "display_data"
    }
   ],
   "source": [
    "(train_df['sentiment'].value_counts() / len(train_df)).plot.bar()"
   ]
  },
  {
   "cell_type": "code",
   "execution_count": 502,
   "metadata": {},
   "outputs": [
    {
     "data": {
      "text/html": [
       "<div>\n",
       "<style scoped>\n",
       "    .dataframe tbody tr th:only-of-type {\n",
       "        vertical-align: middle;\n",
       "    }\n",
       "\n",
       "    .dataframe tbody tr th {\n",
       "        vertical-align: top;\n",
       "    }\n",
       "\n",
       "    .dataframe thead th {\n",
       "        text-align: right;\n",
       "    }\n",
       "</style>\n",
       "<table border=\"1\" class=\"dataframe\">\n",
       "  <thead>\n",
       "    <tr style=\"text-align: right;\">\n",
       "      <th></th>\n",
       "      <th>tweet_id</th>\n",
       "      <th>content</th>\n",
       "      <th>sentiment</th>\n",
       "      <th>sentiment_intensity</th>\n",
       "    </tr>\n",
       "  </thead>\n",
       "  <tbody>\n",
       "    <tr>\n",
       "      <th>0</th>\n",
       "      <td>10941</td>\n",
       "      <td>At the point today where if someone says somet...</td>\n",
       "      <td>anger</td>\n",
       "      <td>0.319</td>\n",
       "    </tr>\n",
       "    <tr>\n",
       "      <th>1</th>\n",
       "      <td>10942</td>\n",
       "      <td>@CorningFootball  IT'S GAME DAY!!!!      T MIN...</td>\n",
       "      <td>anger</td>\n",
       "      <td>0.144</td>\n",
       "    </tr>\n",
       "    <tr>\n",
       "      <th>2</th>\n",
       "      <td>10943</td>\n",
       "      <td>This game has pissed me off more than any othe...</td>\n",
       "      <td>anger</td>\n",
       "      <td>0.898</td>\n",
       "    </tr>\n",
       "    <tr>\n",
       "      <th>3</th>\n",
       "      <td>10944</td>\n",
       "      <td>@spamvicious I've just found out it's Candice ...</td>\n",
       "      <td>anger</td>\n",
       "      <td>0.271</td>\n",
       "    </tr>\n",
       "    <tr>\n",
       "      <th>4</th>\n",
       "      <td>10945</td>\n",
       "      <td>@moocowward @mrsajhargreaves @Melly77 @GaryBar...</td>\n",
       "      <td>anger</td>\n",
       "      <td>0.646</td>\n",
       "    </tr>\n",
       "  </tbody>\n",
       "</table>\n",
       "</div>"
      ],
      "text/plain": [
       "   tweet_id                                            content sentiment  \\\n",
       "0     10941  At the point today where if someone says somet...     anger   \n",
       "1     10942  @CorningFootball  IT'S GAME DAY!!!!      T MIN...     anger   \n",
       "2     10943  This game has pissed me off more than any othe...     anger   \n",
       "3     10944  @spamvicious I've just found out it's Candice ...     anger   \n",
       "4     10945  @moocowward @mrsajhargreaves @Melly77 @GaryBar...     anger   \n",
       "\n",
       "   sentiment_intensity  \n",
       "0                0.319  \n",
       "1                0.144  \n",
       "2                0.898  \n",
       "3                0.271  \n",
       "4                0.646  "
      ]
     },
     "execution_count": 502,
     "metadata": {},
     "output_type": "execute_result"
    }
   ],
   "source": [
    "train_df_1_anger = pd.read_csv('data/anger-ratings-0to1.test.gold.txt', error_bad_lines=False, sep='\\t', header=None)\n",
    "train_df_1_anger.columns = ['tweet_id', 'content', 'sentiment', 'sentiment_intensity']\n",
    "train_df_1_anger.head()"
   ]
  },
  {
   "cell_type": "code",
   "execution_count": 503,
   "metadata": {},
   "outputs": [
    {
     "data": {
      "text/html": [
       "<div>\n",
       "<style scoped>\n",
       "    .dataframe tbody tr th:only-of-type {\n",
       "        vertical-align: middle;\n",
       "    }\n",
       "\n",
       "    .dataframe tbody tr th {\n",
       "        vertical-align: top;\n",
       "    }\n",
       "\n",
       "    .dataframe thead th {\n",
       "        text-align: right;\n",
       "    }\n",
       "</style>\n",
       "<table border=\"1\" class=\"dataframe\">\n",
       "  <thead>\n",
       "    <tr style=\"text-align: right;\">\n",
       "      <th></th>\n",
       "      <th>tweet_id</th>\n",
       "      <th>content</th>\n",
       "      <th>sentiment</th>\n",
       "      <th>sentiment_intensity</th>\n",
       "    </tr>\n",
       "  </thead>\n",
       "  <tbody>\n",
       "    <tr>\n",
       "      <th>755</th>\n",
       "      <td>11696</td>\n",
       "      <td>@ggreenwald What if the supposed animosity is ...</td>\n",
       "      <td>anger</td>\n",
       "      <td>0.646</td>\n",
       "    </tr>\n",
       "    <tr>\n",
       "      <th>756</th>\n",
       "      <td>11697</td>\n",
       "      <td>Will BYU's offense score 24+ vs WVU?</td>\n",
       "      <td>anger</td>\n",
       "      <td>0.125</td>\n",
       "    </tr>\n",
       "    <tr>\n",
       "      <th>757</th>\n",
       "      <td>11698</td>\n",
       "      <td>Id love 2 c Gyimah in action but his coach is ...</td>\n",
       "      <td>anger</td>\n",
       "      <td>0.542</td>\n",
       "    </tr>\n",
       "    <tr>\n",
       "      <th>758</th>\n",
       "      <td>11699</td>\n",
       "      <td>Forgiving means operating with God's spirit &amp;a...</td>\n",
       "      <td>anger</td>\n",
       "      <td>0.250</td>\n",
       "    </tr>\n",
       "    <tr>\n",
       "      <th>759</th>\n",
       "      <td>11700</td>\n",
       "      <td>i've got a lot of tokens saved up and i wanna ...</td>\n",
       "      <td>anger</td>\n",
       "      <td>0.417</td>\n",
       "    </tr>\n",
       "  </tbody>\n",
       "</table>\n",
       "</div>"
      ],
      "text/plain": [
       "     tweet_id                                            content sentiment  \\\n",
       "755     11696  @ggreenwald What if the supposed animosity is ...     anger   \n",
       "756     11697               Will BYU's offense score 24+ vs WVU?     anger   \n",
       "757     11698  Id love 2 c Gyimah in action but his coach is ...     anger   \n",
       "758     11699  Forgiving means operating with God's spirit &a...     anger   \n",
       "759     11700  i've got a lot of tokens saved up and i wanna ...     anger   \n",
       "\n",
       "     sentiment_intensity  \n",
       "755                0.646  \n",
       "756                0.125  \n",
       "757                0.542  \n",
       "758                0.250  \n",
       "759                0.417  "
      ]
     },
     "execution_count": 503,
     "metadata": {},
     "output_type": "execute_result"
    }
   ],
   "source": [
    "train_df_1_anger.tail()"
   ]
  },
  {
   "cell_type": "code",
   "execution_count": 504,
   "metadata": {},
   "outputs": [
    {
     "data": {
      "text/html": [
       "<div>\n",
       "<style scoped>\n",
       "    .dataframe tbody tr th:only-of-type {\n",
       "        vertical-align: middle;\n",
       "    }\n",
       "\n",
       "    .dataframe tbody tr th {\n",
       "        vertical-align: top;\n",
       "    }\n",
       "\n",
       "    .dataframe thead th {\n",
       "        text-align: right;\n",
       "    }\n",
       "</style>\n",
       "<table border=\"1\" class=\"dataframe\">\n",
       "  <thead>\n",
       "    <tr style=\"text-align: right;\">\n",
       "      <th></th>\n",
       "      <th>content</th>\n",
       "      <th>sentiment</th>\n",
       "      <th>sentiment_intensity</th>\n",
       "    </tr>\n",
       "  </thead>\n",
       "  <tbody>\n",
       "    <tr>\n",
       "      <th>0</th>\n",
       "      <td>At the point today where if someone says somet...</td>\n",
       "      <td>anger</td>\n",
       "      <td>0.319</td>\n",
       "    </tr>\n",
       "    <tr>\n",
       "      <th>1</th>\n",
       "      <td>@CorningFootball  IT'S GAME DAY!!!!      T MIN...</td>\n",
       "      <td>anger</td>\n",
       "      <td>0.144</td>\n",
       "    </tr>\n",
       "    <tr>\n",
       "      <th>2</th>\n",
       "      <td>This game has pissed me off more than any othe...</td>\n",
       "      <td>anger</td>\n",
       "      <td>0.898</td>\n",
       "    </tr>\n",
       "    <tr>\n",
       "      <th>3</th>\n",
       "      <td>@spamvicious I've just found out it's Candice ...</td>\n",
       "      <td>anger</td>\n",
       "      <td>0.271</td>\n",
       "    </tr>\n",
       "    <tr>\n",
       "      <th>4</th>\n",
       "      <td>@moocowward @mrsajhargreaves @Melly77 @GaryBar...</td>\n",
       "      <td>anger</td>\n",
       "      <td>0.646</td>\n",
       "    </tr>\n",
       "  </tbody>\n",
       "</table>\n",
       "</div>"
      ],
      "text/plain": [
       "                                             content sentiment  \\\n",
       "0  At the point today where if someone says somet...     anger   \n",
       "1  @CorningFootball  IT'S GAME DAY!!!!      T MIN...     anger   \n",
       "2  This game has pissed me off more than any othe...     anger   \n",
       "3  @spamvicious I've just found out it's Candice ...     anger   \n",
       "4  @moocowward @mrsajhargreaves @Melly77 @GaryBar...     anger   \n",
       "\n",
       "   sentiment_intensity  \n",
       "0                0.319  \n",
       "1                0.144  \n",
       "2                0.898  \n",
       "3                0.271  \n",
       "4                0.646  "
      ]
     },
     "execution_count": 504,
     "metadata": {},
     "output_type": "execute_result"
    }
   ],
   "source": [
    "train_df_1_anger = train_df_1_anger.drop(['tweet_id'], axis=1)\n",
    "train_df_1_anger.head()"
   ]
  },
  {
   "cell_type": "code",
   "execution_count": 505,
   "metadata": {},
   "outputs": [],
   "source": [
    "train_df_1_anger = train_df_1_anger[train_df_1_anger.sentiment_intensity > 0.5]"
   ]
  },
  {
   "cell_type": "code",
   "execution_count": 506,
   "metadata": {},
   "outputs": [
    {
     "data": {
      "text/html": [
       "<div>\n",
       "<style scoped>\n",
       "    .dataframe tbody tr th:only-of-type {\n",
       "        vertical-align: middle;\n",
       "    }\n",
       "\n",
       "    .dataframe tbody tr th {\n",
       "        vertical-align: top;\n",
       "    }\n",
       "\n",
       "    .dataframe thead th {\n",
       "        text-align: right;\n",
       "    }\n",
       "</style>\n",
       "<table border=\"1\" class=\"dataframe\">\n",
       "  <thead>\n",
       "    <tr style=\"text-align: right;\">\n",
       "      <th></th>\n",
       "      <th>content</th>\n",
       "      <th>sentiment</th>\n",
       "      <th>sentiment_intensity</th>\n",
       "    </tr>\n",
       "  </thead>\n",
       "  <tbody>\n",
       "    <tr>\n",
       "      <th>2</th>\n",
       "      <td>This game has pissed me off more than any othe...</td>\n",
       "      <td>anger</td>\n",
       "      <td>0.898</td>\n",
       "    </tr>\n",
       "    <tr>\n",
       "      <th>4</th>\n",
       "      <td>@moocowward @mrsajhargreaves @Melly77 @GaryBar...</td>\n",
       "      <td>anger</td>\n",
       "      <td>0.646</td>\n",
       "    </tr>\n",
       "    <tr>\n",
       "      <th>5</th>\n",
       "      <td>@moocowward @mrsajhargreaves @Melly77 @GaryBar...</td>\n",
       "      <td>anger</td>\n",
       "      <td>0.583</td>\n",
       "    </tr>\n",
       "    <tr>\n",
       "      <th>7</th>\n",
       "      <td>@virginmedia I've been disconnected whilst on ...</td>\n",
       "      <td>anger</td>\n",
       "      <td>0.625</td>\n",
       "    </tr>\n",
       "    <tr>\n",
       "      <th>11</th>\n",
       "      <td>@eMilsOnWheels I'm furious 😩😩😩</td>\n",
       "      <td>anger</td>\n",
       "      <td>0.708</td>\n",
       "    </tr>\n",
       "  </tbody>\n",
       "</table>\n",
       "</div>"
      ],
      "text/plain": [
       "                                              content sentiment  \\\n",
       "2   This game has pissed me off more than any othe...     anger   \n",
       "4   @moocowward @mrsajhargreaves @Melly77 @GaryBar...     anger   \n",
       "5   @moocowward @mrsajhargreaves @Melly77 @GaryBar...     anger   \n",
       "7   @virginmedia I've been disconnected whilst on ...     anger   \n",
       "11                     @eMilsOnWheels I'm furious 😩😩😩     anger   \n",
       "\n",
       "    sentiment_intensity  \n",
       "2                 0.898  \n",
       "4                 0.646  \n",
       "5                 0.583  \n",
       "7                 0.625  \n",
       "11                0.708  "
      ]
     },
     "execution_count": 506,
     "metadata": {},
     "output_type": "execute_result"
    }
   ],
   "source": [
    "train_df_1_anger.head()"
   ]
  },
  {
   "cell_type": "code",
   "execution_count": 507,
   "metadata": {},
   "outputs": [
    {
     "data": {
      "text/plain": [
       "350"
      ]
     },
     "execution_count": 507,
     "metadata": {},
     "output_type": "execute_result"
    }
   ],
   "source": [
    "len(train_df_1_anger)"
   ]
  },
  {
   "cell_type": "code",
   "execution_count": 508,
   "metadata": {},
   "outputs": [],
   "source": [
    "train_df_1_anger = train_df_1_anger.drop(['sentiment_intensity'], axis=1)"
   ]
  },
  {
   "cell_type": "code",
   "execution_count": 509,
   "metadata": {},
   "outputs": [
    {
     "data": {
      "text/plain": [
       "anger    350\n",
       "Name: sentiment, dtype: int64"
      ]
     },
     "execution_count": 509,
     "metadata": {},
     "output_type": "execute_result"
    }
   ],
   "source": [
    "train_df_1_anger['sentiment'].value_counts()"
   ]
  },
  {
   "cell_type": "code",
   "execution_count": 510,
   "metadata": {},
   "outputs": [
    {
     "data": {
      "text/html": [
       "<div>\n",
       "<style scoped>\n",
       "    .dataframe tbody tr th:only-of-type {\n",
       "        vertical-align: middle;\n",
       "    }\n",
       "\n",
       "    .dataframe tbody tr th {\n",
       "        vertical-align: top;\n",
       "    }\n",
       "\n",
       "    .dataframe thead th {\n",
       "        text-align: right;\n",
       "    }\n",
       "</style>\n",
       "<table border=\"1\" class=\"dataframe\">\n",
       "  <thead>\n",
       "    <tr style=\"text-align: right;\">\n",
       "      <th></th>\n",
       "      <th>content</th>\n",
       "      <th>sentiment</th>\n",
       "    </tr>\n",
       "  </thead>\n",
       "  <tbody>\n",
       "    <tr>\n",
       "      <th>751</th>\n",
       "      <td>@kylemuir17 @Ealvarezfight @danawhite @TheNoto...</td>\n",
       "      <td>anger</td>\n",
       "    </tr>\n",
       "    <tr>\n",
       "      <th>752</th>\n",
       "      <td>@CallofDuty how do u guys determine teams? Cau...</td>\n",
       "      <td>anger</td>\n",
       "    </tr>\n",
       "    <tr>\n",
       "      <th>753</th>\n",
       "      <td>@CallofDuty how do u guys determine teams? Cau...</td>\n",
       "      <td>anger</td>\n",
       "    </tr>\n",
       "    <tr>\n",
       "      <th>755</th>\n",
       "      <td>@ggreenwald What if the supposed animosity is ...</td>\n",
       "      <td>anger</td>\n",
       "    </tr>\n",
       "    <tr>\n",
       "      <th>757</th>\n",
       "      <td>Id love 2 c Gyimah in action but his coach is ...</td>\n",
       "      <td>anger</td>\n",
       "    </tr>\n",
       "  </tbody>\n",
       "</table>\n",
       "</div>"
      ],
      "text/plain": [
       "                                               content sentiment\n",
       "751  @kylemuir17 @Ealvarezfight @danawhite @TheNoto...     anger\n",
       "752  @CallofDuty how do u guys determine teams? Cau...     anger\n",
       "753  @CallofDuty how do u guys determine teams? Cau...     anger\n",
       "755  @ggreenwald What if the supposed animosity is ...     anger\n",
       "757  Id love 2 c Gyimah in action but his coach is ...     anger"
      ]
     },
     "execution_count": 510,
     "metadata": {},
     "output_type": "execute_result"
    }
   ],
   "source": [
    "train_df_1_anger.tail()"
   ]
  },
  {
   "cell_type": "code",
   "execution_count": 511,
   "metadata": {},
   "outputs": [],
   "source": [
    "train_df = [train_df, train_df_1_anger]"
   ]
  },
  {
   "cell_type": "code",
   "execution_count": 512,
   "metadata": {},
   "outputs": [],
   "source": [
    "train_df = pd.concat(train_df)"
   ]
  },
  {
   "cell_type": "code",
   "execution_count": 513,
   "metadata": {},
   "outputs": [
    {
     "data": {
      "text/html": [
       "<div>\n",
       "<style scoped>\n",
       "    .dataframe tbody tr th:only-of-type {\n",
       "        vertical-align: middle;\n",
       "    }\n",
       "\n",
       "    .dataframe tbody tr th {\n",
       "        vertical-align: top;\n",
       "    }\n",
       "\n",
       "    .dataframe thead th {\n",
       "        text-align: right;\n",
       "    }\n",
       "</style>\n",
       "<table border=\"1\" class=\"dataframe\">\n",
       "  <thead>\n",
       "    <tr style=\"text-align: right;\">\n",
       "      <th></th>\n",
       "      <th>content</th>\n",
       "      <th>sentiment</th>\n",
       "    </tr>\n",
       "  </thead>\n",
       "  <tbody>\n",
       "    <tr>\n",
       "      <th>39990</th>\n",
       "      <td>@shonali I think the lesson of the day is not ...</td>\n",
       "      <td>neutral</td>\n",
       "    </tr>\n",
       "    <tr>\n",
       "      <th>39991</th>\n",
       "      <td>@lovelylisaj can you give me the link for the ...</td>\n",
       "      <td>neutral</td>\n",
       "    </tr>\n",
       "    <tr>\n",
       "      <th>39992</th>\n",
       "      <td>@jasimmo Ooo showing of your French skills!! l...</td>\n",
       "      <td>neutral</td>\n",
       "    </tr>\n",
       "    <tr>\n",
       "      <th>39993</th>\n",
       "      <td>@sendsome2me haha, yeah. Twitter has many uses...</td>\n",
       "      <td>neutral</td>\n",
       "    </tr>\n",
       "    <tr>\n",
       "      <th>39994</th>\n",
       "      <td>Succesfully following Tayla!!</td>\n",
       "      <td>happiness</td>\n",
       "    </tr>\n",
       "    <tr>\n",
       "      <th>39995</th>\n",
       "      <td>@JohnLloydTaylor</td>\n",
       "      <td>neutral</td>\n",
       "    </tr>\n",
       "    <tr>\n",
       "      <th>39996</th>\n",
       "      <td>Happy Mothers Day  All my love</td>\n",
       "      <td>love</td>\n",
       "    </tr>\n",
       "    <tr>\n",
       "      <th>39997</th>\n",
       "      <td>Happy Mother's Day to all the mommies out ther...</td>\n",
       "      <td>love</td>\n",
       "    </tr>\n",
       "    <tr>\n",
       "      <th>39998</th>\n",
       "      <td>@niariley WASSUP BEAUTIFUL!!! FOLLOW ME!!  PEE...</td>\n",
       "      <td>happiness</td>\n",
       "    </tr>\n",
       "    <tr>\n",
       "      <th>39999</th>\n",
       "      <td>@mopedronin bullet train from tokyo    the gf ...</td>\n",
       "      <td>love</td>\n",
       "    </tr>\n",
       "    <tr>\n",
       "      <th>2</th>\n",
       "      <td>This game has pissed me off more than any othe...</td>\n",
       "      <td>anger</td>\n",
       "    </tr>\n",
       "    <tr>\n",
       "      <th>4</th>\n",
       "      <td>@moocowward @mrsajhargreaves @Melly77 @GaryBar...</td>\n",
       "      <td>anger</td>\n",
       "    </tr>\n",
       "    <tr>\n",
       "      <th>5</th>\n",
       "      <td>@moocowward @mrsajhargreaves @Melly77 @GaryBar...</td>\n",
       "      <td>anger</td>\n",
       "    </tr>\n",
       "    <tr>\n",
       "      <th>7</th>\n",
       "      <td>@virginmedia I've been disconnected whilst on ...</td>\n",
       "      <td>anger</td>\n",
       "    </tr>\n",
       "    <tr>\n",
       "      <th>11</th>\n",
       "      <td>@eMilsOnWheels I'm furious 😩😩😩</td>\n",
       "      <td>anger</td>\n",
       "    </tr>\n",
       "    <tr>\n",
       "      <th>13</th>\n",
       "      <td>They gonna give this KKk police bitch the mini...</td>\n",
       "      <td>anger</td>\n",
       "    </tr>\n",
       "    <tr>\n",
       "      <th>14</th>\n",
       "      <td>They gonna give this KKk police bitch the mini...</td>\n",
       "      <td>anger</td>\n",
       "    </tr>\n",
       "    <tr>\n",
       "      <th>18</th>\n",
       "      <td>new madden 16 video was gonna be up but xbox i...</td>\n",
       "      <td>anger</td>\n",
       "    </tr>\n",
       "    <tr>\n",
       "      <th>20</th>\n",
       "      <td>Yay bmth canceled Melbourne show fanfuckingtas...</td>\n",
       "      <td>anger</td>\n",
       "    </tr>\n",
       "    <tr>\n",
       "      <th>21</th>\n",
       "      <td>Yay bmth canceled Melbourne show fanfuckingtas...</td>\n",
       "      <td>anger</td>\n",
       "    </tr>\n",
       "    <tr>\n",
       "      <th>23</th>\n",
       "      <td>@crystaldiamondo impossible to say. We can onl...</td>\n",
       "      <td>anger</td>\n",
       "    </tr>\n",
       "    <tr>\n",
       "      <th>25</th>\n",
       "      <td>Autocorrect changes ''em' to 'me' which I rese...</td>\n",
       "      <td>anger</td>\n",
       "    </tr>\n",
       "    <tr>\n",
       "      <th>26</th>\n",
       "      <td>Candice on great british bake off with that po...</td>\n",
       "      <td>anger</td>\n",
       "    </tr>\n",
       "    <tr>\n",
       "      <th>31</th>\n",
       "      <td>Not sorry for that burst of anti #Allo spam, f...</td>\n",
       "      <td>anger</td>\n",
       "    </tr>\n",
       "    <tr>\n",
       "      <th>34</th>\n",
       "      <td>At work yesterday some old cunt couple told me...</td>\n",
       "      <td>anger</td>\n",
       "    </tr>\n",
       "    <tr>\n",
       "      <th>35</th>\n",
       "      <td>When you want to say something so bad but can'...</td>\n",
       "      <td>anger</td>\n",
       "    </tr>\n",
       "    <tr>\n",
       "      <th>37</th>\n",
       "      <td>@TheRevAl please tell us why 'protesting' inju...</td>\n",
       "      <td>anger</td>\n",
       "    </tr>\n",
       "    <tr>\n",
       "      <th>39</th>\n",
       "      <td>Stop tracking back you fucking potato faced cu...</td>\n",
       "      <td>anger</td>\n",
       "    </tr>\n",
       "    <tr>\n",
       "      <th>40</th>\n",
       "      <td>Stop tracking back you fucking potato faced cu...</td>\n",
       "      <td>anger</td>\n",
       "    </tr>\n",
       "    <tr>\n",
       "      <th>43</th>\n",
       "      <td>@aGirlHasNo_Name @MdlMurray shot by black poli...</td>\n",
       "      <td>anger</td>\n",
       "    </tr>\n",
       "    <tr>\n",
       "      <th>...</th>\n",
       "      <td>...</td>\n",
       "      <td>...</td>\n",
       "    </tr>\n",
       "    <tr>\n",
       "      <th>690</th>\n",
       "      <td>revenge</td>\n",
       "      <td>anger</td>\n",
       "    </tr>\n",
       "    <tr>\n",
       "      <th>691</th>\n",
       "      <td>@jackmegawphoto what if lives are attached to ...</td>\n",
       "      <td>anger</td>\n",
       "    </tr>\n",
       "    <tr>\n",
       "      <th>692</th>\n",
       "      <td>@EmmaHobbs1 I did that! 3 days later my order ...</td>\n",
       "      <td>anger</td>\n",
       "    </tr>\n",
       "    <tr>\n",
       "      <th>693</th>\n",
       "      <td>@EmmaHobbs1 I did that! 3 days later my order ...</td>\n",
       "      <td>anger</td>\n",
       "    </tr>\n",
       "    <tr>\n",
       "      <th>700</th>\n",
       "      <td>@Andy1129298 @hopheaddarrell fingers of fury!</td>\n",
       "      <td>anger</td>\n",
       "    </tr>\n",
       "    <tr>\n",
       "      <th>705</th>\n",
       "      <td>@RogueFatale Oh, you insult me! What, you thin...</td>\n",
       "      <td>anger</td>\n",
       "    </tr>\n",
       "    <tr>\n",
       "      <th>708</th>\n",
       "      <td>@baileygazteacow NO. The gay guy and the dad r...</td>\n",
       "      <td>anger</td>\n",
       "    </tr>\n",
       "    <tr>\n",
       "      <th>709</th>\n",
       "      <td>@sarahhiggins90 @lokiscottishrap So much animo...</td>\n",
       "      <td>anger</td>\n",
       "    </tr>\n",
       "    <tr>\n",
       "      <th>712</th>\n",
       "      <td>Stupid people piss me off...busted my ass...an...</td>\n",
       "      <td>anger</td>\n",
       "    </tr>\n",
       "    <tr>\n",
       "      <th>713</th>\n",
       "      <td>Stupid people piss me off...busted my ass...an...</td>\n",
       "      <td>anger</td>\n",
       "    </tr>\n",
       "    <tr>\n",
       "      <th>716</th>\n",
       "      <td>Can we get a shot of Lingys face at 1/4 time ?...</td>\n",
       "      <td>anger</td>\n",
       "    </tr>\n",
       "    <tr>\n",
       "      <th>719</th>\n",
       "      <td>kenny - where were you born\\nme - washington\\n...</td>\n",
       "      <td>anger</td>\n",
       "    </tr>\n",
       "    <tr>\n",
       "      <th>721</th>\n",
       "      <td>@MintMilana where is the outrage when black ch...</td>\n",
       "      <td>anger</td>\n",
       "    </tr>\n",
       "    <tr>\n",
       "      <th>723</th>\n",
       "      <td>I bet @mmunro91 is fuming with our draw 👀</td>\n",
       "      <td>anger</td>\n",
       "    </tr>\n",
       "    <tr>\n",
       "      <th>726</th>\n",
       "      <td>@StrangeFacesLA why doesn't this account follo...</td>\n",
       "      <td>anger</td>\n",
       "    </tr>\n",
       "    <tr>\n",
       "      <th>730</th>\n",
       "      <td>@Christelle_C Actually, wait, I do, the consta...</td>\n",
       "      <td>anger</td>\n",
       "    </tr>\n",
       "    <tr>\n",
       "      <th>733</th>\n",
       "      <td>@lmench i'm actually offended by it.  naming t...</td>\n",
       "      <td>anger</td>\n",
       "    </tr>\n",
       "    <tr>\n",
       "      <th>738</th>\n",
       "      <td>Stuck in a infuriate scrum about hegemonists. ...</td>\n",
       "      <td>anger</td>\n",
       "    </tr>\n",
       "    <tr>\n",
       "      <th>739</th>\n",
       "      <td>Stuck in a infuriate scrum about hegemonists. ...</td>\n",
       "      <td>anger</td>\n",
       "    </tr>\n",
       "    <tr>\n",
       "      <th>741</th>\n",
       "      <td>Like he really just fucking asked me that.</td>\n",
       "      <td>anger</td>\n",
       "    </tr>\n",
       "    <tr>\n",
       "      <th>742</th>\n",
       "      <td>Like he really just fucking asked me that. #of...</td>\n",
       "      <td>anger</td>\n",
       "    </tr>\n",
       "    <tr>\n",
       "      <th>743</th>\n",
       "      <td>Who allowed Pereira to start taking all the se...</td>\n",
       "      <td>anger</td>\n",
       "    </tr>\n",
       "    <tr>\n",
       "      <th>744</th>\n",
       "      <td>@robert7019 @itzamadhouse @skyler12388\\r\\ralso...</td>\n",
       "      <td>anger</td>\n",
       "    </tr>\n",
       "    <tr>\n",
       "      <th>745</th>\n",
       "      <td>So fucking mad my blood boiling.</td>\n",
       "      <td>anger</td>\n",
       "    </tr>\n",
       "    <tr>\n",
       "      <th>750</th>\n",
       "      <td>Dude go out his way to irritate me🙄🙄 that's wh...</td>\n",
       "      <td>anger</td>\n",
       "    </tr>\n",
       "    <tr>\n",
       "      <th>751</th>\n",
       "      <td>@kylemuir17 @Ealvarezfight @danawhite @TheNoto...</td>\n",
       "      <td>anger</td>\n",
       "    </tr>\n",
       "    <tr>\n",
       "      <th>752</th>\n",
       "      <td>@CallofDuty how do u guys determine teams? Cau...</td>\n",
       "      <td>anger</td>\n",
       "    </tr>\n",
       "    <tr>\n",
       "      <th>753</th>\n",
       "      <td>@CallofDuty how do u guys determine teams? Cau...</td>\n",
       "      <td>anger</td>\n",
       "    </tr>\n",
       "    <tr>\n",
       "      <th>755</th>\n",
       "      <td>@ggreenwald What if the supposed animosity is ...</td>\n",
       "      <td>anger</td>\n",
       "    </tr>\n",
       "    <tr>\n",
       "      <th>757</th>\n",
       "      <td>Id love 2 c Gyimah in action but his coach is ...</td>\n",
       "      <td>anger</td>\n",
       "    </tr>\n",
       "  </tbody>\n",
       "</table>\n",
       "<p>360 rows × 2 columns</p>\n",
       "</div>"
      ],
      "text/plain": [
       "                                                 content  sentiment\n",
       "39990  @shonali I think the lesson of the day is not ...    neutral\n",
       "39991  @lovelylisaj can you give me the link for the ...    neutral\n",
       "39992  @jasimmo Ooo showing of your French skills!! l...    neutral\n",
       "39993  @sendsome2me haha, yeah. Twitter has many uses...    neutral\n",
       "39994                      Succesfully following Tayla!!  happiness\n",
       "39995                                   @JohnLloydTaylor    neutral\n",
       "39996                     Happy Mothers Day  All my love       love\n",
       "39997  Happy Mother's Day to all the mommies out ther...       love\n",
       "39998  @niariley WASSUP BEAUTIFUL!!! FOLLOW ME!!  PEE...  happiness\n",
       "39999  @mopedronin bullet train from tokyo    the gf ...       love\n",
       "2      This game has pissed me off more than any othe...      anger\n",
       "4      @moocowward @mrsajhargreaves @Melly77 @GaryBar...      anger\n",
       "5      @moocowward @mrsajhargreaves @Melly77 @GaryBar...      anger\n",
       "7      @virginmedia I've been disconnected whilst on ...      anger\n",
       "11                        @eMilsOnWheels I'm furious 😩😩😩      anger\n",
       "13     They gonna give this KKk police bitch the mini...      anger\n",
       "14     They gonna give this KKk police bitch the mini...      anger\n",
       "18     new madden 16 video was gonna be up but xbox i...      anger\n",
       "20     Yay bmth canceled Melbourne show fanfuckingtas...      anger\n",
       "21     Yay bmth canceled Melbourne show fanfuckingtas...      anger\n",
       "23     @crystaldiamondo impossible to say. We can onl...      anger\n",
       "25     Autocorrect changes ''em' to 'me' which I rese...      anger\n",
       "26     Candice on great british bake off with that po...      anger\n",
       "31     Not sorry for that burst of anti #Allo spam, f...      anger\n",
       "34     At work yesterday some old cunt couple told me...      anger\n",
       "35     When you want to say something so bad but can'...      anger\n",
       "37     @TheRevAl please tell us why 'protesting' inju...      anger\n",
       "39     Stop tracking back you fucking potato faced cu...      anger\n",
       "40     Stop tracking back you fucking potato faced cu...      anger\n",
       "43     @aGirlHasNo_Name @MdlMurray shot by black poli...      anger\n",
       "...                                                  ...        ...\n",
       "690                                              revenge      anger\n",
       "691    @jackmegawphoto what if lives are attached to ...      anger\n",
       "692    @EmmaHobbs1 I did that! 3 days later my order ...      anger\n",
       "693    @EmmaHobbs1 I did that! 3 days later my order ...      anger\n",
       "700        @Andy1129298 @hopheaddarrell fingers of fury!      anger\n",
       "705    @RogueFatale Oh, you insult me! What, you thin...      anger\n",
       "708    @baileygazteacow NO. The gay guy and the dad r...      anger\n",
       "709    @sarahhiggins90 @lokiscottishrap So much animo...      anger\n",
       "712    Stupid people piss me off...busted my ass...an...      anger\n",
       "713    Stupid people piss me off...busted my ass...an...      anger\n",
       "716    Can we get a shot of Lingys face at 1/4 time ?...      anger\n",
       "719    kenny - where were you born\\nme - washington\\n...      anger\n",
       "721    @MintMilana where is the outrage when black ch...      anger\n",
       "723            I bet @mmunro91 is fuming with our draw 👀      anger\n",
       "726    @StrangeFacesLA why doesn't this account follo...      anger\n",
       "730    @Christelle_C Actually, wait, I do, the consta...      anger\n",
       "733    @lmench i'm actually offended by it.  naming t...      anger\n",
       "738    Stuck in a infuriate scrum about hegemonists. ...      anger\n",
       "739    Stuck in a infuriate scrum about hegemonists. ...      anger\n",
       "741          Like he really just fucking asked me that.       anger\n",
       "742    Like he really just fucking asked me that. #of...      anger\n",
       "743    Who allowed Pereira to start taking all the se...      anger\n",
       "744    @robert7019 @itzamadhouse @skyler12388\\r\\ralso...      anger\n",
       "745                     So fucking mad my blood boiling.      anger\n",
       "750    Dude go out his way to irritate me🙄🙄 that's wh...      anger\n",
       "751    @kylemuir17 @Ealvarezfight @danawhite @TheNoto...      anger\n",
       "752    @CallofDuty how do u guys determine teams? Cau...      anger\n",
       "753    @CallofDuty how do u guys determine teams? Cau...      anger\n",
       "755    @ggreenwald What if the supposed animosity is ...      anger\n",
       "757    Id love 2 c Gyimah in action but his coach is ...      anger\n",
       "\n",
       "[360 rows x 2 columns]"
      ]
     },
     "execution_count": 513,
     "metadata": {},
     "output_type": "execute_result"
    }
   ],
   "source": [
    "train_df.tail(360)"
   ]
  },
  {
   "cell_type": "code",
   "execution_count": 514,
   "metadata": {},
   "outputs": [
    {
     "data": {
      "text/plain": [
       "neutral       8638\n",
       "worry         8459\n",
       "happiness     5209\n",
       "sadness       5165\n",
       "love          3842\n",
       "surprise      2187\n",
       "fun           1776\n",
       "relief        1526\n",
       "hate          1323\n",
       "empty          827\n",
       "enthusiasm     759\n",
       "anger          460\n",
       "boredom        179\n",
       "Name: sentiment, dtype: int64"
      ]
     },
     "execution_count": 514,
     "metadata": {},
     "output_type": "execute_result"
    }
   ],
   "source": [
    "train_df['sentiment'].value_counts()"
   ]
  },
  {
   "cell_type": "code",
   "execution_count": 515,
   "metadata": {},
   "outputs": [
    {
     "data": {
      "text/html": [
       "<div>\n",
       "<style scoped>\n",
       "    .dataframe tbody tr th:only-of-type {\n",
       "        vertical-align: middle;\n",
       "    }\n",
       "\n",
       "    .dataframe tbody tr th {\n",
       "        vertical-align: top;\n",
       "    }\n",
       "\n",
       "    .dataframe thead th {\n",
       "        text-align: right;\n",
       "    }\n",
       "</style>\n",
       "<table border=\"1\" class=\"dataframe\">\n",
       "  <thead>\n",
       "    <tr style=\"text-align: right;\">\n",
       "      <th></th>\n",
       "      <th>content</th>\n",
       "      <th>sentiment</th>\n",
       "    </tr>\n",
       "  </thead>\n",
       "  <tbody>\n",
       "    <tr>\n",
       "      <th>381</th>\n",
       "      <td>don't provoke me after letting me down !</td>\n",
       "      <td>anger</td>\n",
       "    </tr>\n",
       "    <tr>\n",
       "      <th>382</th>\n",
       "      <td>could never be a angry drunk lol yall weirdos ...</td>\n",
       "      <td>anger</td>\n",
       "    </tr>\n",
       "    <tr>\n",
       "      <th>383</th>\n",
       "      <td>Yet we still have deaths, road rage, &amp;amp; vio...</td>\n",
       "      <td>anger</td>\n",
       "    </tr>\n",
       "    <tr>\n",
       "      <th>396</th>\n",
       "      <td>I have a rage rage ep 2 coming out soon I'll k...</td>\n",
       "      <td>anger</td>\n",
       "    </tr>\n",
       "    <tr>\n",
       "      <th>505</th>\n",
       "      <td>Egyptian officials expressed frustration and o...</td>\n",
       "      <td>anger</td>\n",
       "    </tr>\n",
       "  </tbody>\n",
       "</table>\n",
       "</div>"
      ],
      "text/plain": [
       "                                               content sentiment\n",
       "381           don't provoke me after letting me down !     anger\n",
       "382  could never be a angry drunk lol yall weirdos ...     anger\n",
       "383  Yet we still have deaths, road rage, &amp; vio...     anger\n",
       "396  I have a rage rage ep 2 coming out soon I'll k...     anger\n",
       "505  Egyptian officials expressed frustration and o...     anger"
      ]
     },
     "execution_count": 515,
     "metadata": {},
     "output_type": "execute_result"
    }
   ],
   "source": [
    "train_df_2_anger = pd.read_csv('data/anger-ratings-0to1.train.txt', error_bad_lines=False, sep='\\t', header=None)\n",
    "train_df_2_anger.columns = ['tweet_id', 'content', 'sentiment', 'sentiment_intensity']\n",
    "train_df_2_anger = train_df_2_anger[train_df_2_anger.sentiment_intensity > 0.5]\n",
    "train_df_2_anger = train_df_2_anger.drop(['tweet_id', 'sentiment_intensity'], axis=1)\n",
    "train_df_2_anger.tail()"
   ]
  },
  {
   "cell_type": "code",
   "execution_count": 516,
   "metadata": {},
   "outputs": [],
   "source": [
    "train_df = [train_df, train_df_2_anger]\n",
    "train_df = pd.concat(train_df)"
   ]
  },
  {
   "cell_type": "code",
   "execution_count": 517,
   "metadata": {},
   "outputs": [
    {
     "data": {
      "text/plain": [
       "neutral       8638\n",
       "worry         8459\n",
       "happiness     5209\n",
       "sadness       5165\n",
       "love          3842\n",
       "surprise      2187\n",
       "fun           1776\n",
       "relief        1526\n",
       "hate          1323\n",
       "anger          834\n",
       "empty          827\n",
       "enthusiasm     759\n",
       "boredom        179\n",
       "Name: sentiment, dtype: int64"
      ]
     },
     "execution_count": 517,
     "metadata": {},
     "output_type": "execute_result"
    }
   ],
   "source": [
    "train_df['sentiment'].value_counts()"
   ]
  },
  {
   "cell_type": "code",
   "execution_count": 518,
   "metadata": {},
   "outputs": [
    {
     "data": {
      "text/plain": [
       "(1000, 2)"
      ]
     },
     "execution_count": 518,
     "metadata": {},
     "output_type": "execute_result"
    }
   ],
   "source": [
    "train_df_1_fear = pd.read_csv('data/fear-ratings-0to1.test.gold.txt', error_bad_lines=False, sep='\\t', header=None)\n",
    "train_df_2_fear = pd.read_csv('data/fear-ratings-0to1.train.txt', error_bad_lines=False, sep='\\t', header=None)\n",
    "train_df_fear = [train_df_1_fear, train_df_2_fear]\n",
    "train_df_fear = pd.concat(train_df_fear)\n",
    "train_df_fear.columns = ['tweet_id', 'content', 'sentiment', 'sentiment_intensity']\n",
    "train_df_fear = train_df_fear[train_df_fear.sentiment_intensity > 0.5]\n",
    "train_df_fear = train_df_fear.drop(['tweet_id', 'sentiment_intensity'], axis=1)\n",
    "train_df_fear.tail()\n",
    "train_df_fear.shape"
   ]
  },
  {
   "cell_type": "code",
   "execution_count": 519,
   "metadata": {},
   "outputs": [
    {
     "name": "stdout",
     "output_type": "stream",
     "text": [
      "neutral       8638\n",
      "worry         8459\n",
      "happiness     5209\n",
      "sadness       5165\n",
      "love          3842\n",
      "surprise      2187\n",
      "fun           1776\n",
      "relief        1526\n",
      "hate          1323\n",
      "fear          1000\n",
      "anger          834\n",
      "empty          827\n",
      "enthusiasm     759\n",
      "boredom        179\n",
      "Name: sentiment, dtype: int64\n"
     ]
    },
    {
     "data": {
      "text/plain": [
       "<matplotlib.axes._subplots.AxesSubplot at 0x1d0b04f7ef0>"
      ]
     },
     "execution_count": 519,
     "metadata": {},
     "output_type": "execute_result"
    },
    {
     "data": {
      "image/png": "[encoded data removed]",
      "text/plain": [
       "<matplotlib.figure.Figure at 0x1d0b01f0a58>"
      ]
     },
     "metadata": {},
     "output_type": "display_data"
    }
   ],
   "source": [
    "train_df = [train_df, train_df_fear]\n",
    "train_df = pd.concat(train_df)\n",
    "print(train_df['sentiment'].value_counts())\n",
    "train_df['sentiment'].value_counts().plot.bar()"
   ]
  },
  {
   "cell_type": "code",
   "execution_count": 520,
   "metadata": {},
   "outputs": [
    {
     "data": {
      "text/plain": [
       "(array([], dtype=int64), array([], dtype=int64))"
      ]
     },
     "execution_count": 520,
     "metadata": {},
     "output_type": "execute_result"
    }
   ],
   "source": [
    "np.where(pd.isnull(train_df))"
   ]
  },
  {
   "cell_type": "code",
   "execution_count": 521,
   "metadata": {},
   "outputs": [
    {
     "name": "stdout",
     "output_type": "stream",
     "text": [
      "                                             content   sentiment\n",
      "0  @tiffanylue i know  i was listenin to bad habi...       empty\n",
      "1  Layin n bed with a headache  ughhhh...waitin o...     sadness\n",
      "2                Funeral ceremony...gloomy friday...     sadness\n",
      "3               wants to hang out with friends SOON!  enthusiasm\n",
      "4  @dannycastillo We want to trade with someone w...     neutral\n",
      "41724\n"
     ]
    },
    {
     "data": {
      "text/html": [
       "<div>\n",
       "<style scoped>\n",
       "    .dataframe tbody tr th:only-of-type {\n",
       "        vertical-align: middle;\n",
       "    }\n",
       "\n",
       "    .dataframe tbody tr th {\n",
       "        vertical-align: top;\n",
       "    }\n",
       "\n",
       "    .dataframe thead th {\n",
       "        text-align: right;\n",
       "    }\n",
       "</style>\n",
       "<table border=\"1\" class=\"dataframe\">\n",
       "  <thead>\n",
       "    <tr style=\"text-align: right;\">\n",
       "      <th></th>\n",
       "      <th>content</th>\n",
       "      <th>sentiment</th>\n",
       "    </tr>\n",
       "  </thead>\n",
       "  <tbody>\n",
       "    <tr>\n",
       "      <th>0</th>\n",
       "      <td>@NiftyKnits I was saying the same thing yester...</td>\n",
       "      <td>neutral</td>\n",
       "    </tr>\n",
       "    <tr>\n",
       "      <th>1</th>\n",
       "      <td>Time to play the drums</td>\n",
       "      <td>neutral</td>\n",
       "    </tr>\n",
       "    <tr>\n",
       "      <th>2</th>\n",
       "      <td>@jaderibeiro lol event management. no prerequi...</td>\n",
       "      <td>relief</td>\n",
       "    </tr>\n",
       "    <tr>\n",
       "      <th>3</th>\n",
       "      <td>@SimonFilmer Alough I will hold you to your wo...</td>\n",
       "      <td>worry</td>\n",
       "    </tr>\n",
       "    <tr>\n",
       "      <th>4</th>\n",
       "      <td>im so mad about power rangers. im incensed. im...</td>\n",
       "      <td>anger</td>\n",
       "    </tr>\n",
       "  </tbody>\n",
       "</table>\n",
       "</div>"
      ],
      "text/plain": [
       "                                             content sentiment\n",
       "0  @NiftyKnits I was saying the same thing yester...   neutral\n",
       "1                             Time to play the drums   neutral\n",
       "2  @jaderibeiro lol event management. no prerequi...    relief\n",
       "3  @SimonFilmer Alough I will hold you to your wo...     worry\n",
       "4  im so mad about power rangers. im incensed. im...     anger"
      ]
     },
     "execution_count": 521,
     "metadata": {},
     "output_type": "execute_result"
    }
   ],
   "source": [
    "print(train_df.head())\n",
    "train_df = train_df.sample(frac=1).reset_index(drop=True)\n",
    "print(len(train_df))\n",
    "train_df.head()"
   ]
  },
  {
   "cell_type": "code",
   "execution_count": 522,
   "metadata": {},
   "outputs": [
    {
     "name": "stdout",
     "output_type": "stream",
     "text": [
      "<class 'pandas.core.frame.DataFrame'>\n",
      "(41724, 14)\n",
      "2\n"
     ]
    },
    {
     "data": {
      "text/html": [
       "<div>\n",
       "<style scoped>\n",
       "    .dataframe tbody tr th:only-of-type {\n",
       "        vertical-align: middle;\n",
       "    }\n",
       "\n",
       "    .dataframe tbody tr th {\n",
       "        vertical-align: top;\n",
       "    }\n",
       "\n",
       "    .dataframe thead th {\n",
       "        text-align: right;\n",
       "    }\n",
       "</style>\n",
       "<table border=\"1\" class=\"dataframe\">\n",
       "  <thead>\n",
       "    <tr style=\"text-align: right;\">\n",
       "      <th></th>\n",
       "      <th>anger</th>\n",
       "      <th>boredom</th>\n",
       "      <th>empty</th>\n",
       "      <th>enthusiasm</th>\n",
       "      <th>fear</th>\n",
       "      <th>fun</th>\n",
       "      <th>happiness</th>\n",
       "      <th>hate</th>\n",
       "      <th>love</th>\n",
       "      <th>neutral</th>\n",
       "      <th>relief</th>\n",
       "      <th>sadness</th>\n",
       "      <th>surprise</th>\n",
       "      <th>worry</th>\n",
       "    </tr>\n",
       "  </thead>\n",
       "  <tbody>\n",
       "    <tr>\n",
       "      <th>0</th>\n",
       "      <td>0</td>\n",
       "      <td>0</td>\n",
       "      <td>0</td>\n",
       "      <td>0</td>\n",
       "      <td>0</td>\n",
       "      <td>0</td>\n",
       "      <td>0</td>\n",
       "      <td>0</td>\n",
       "      <td>0</td>\n",
       "      <td>1</td>\n",
       "      <td>0</td>\n",
       "      <td>0</td>\n",
       "      <td>0</td>\n",
       "      <td>0</td>\n",
       "    </tr>\n",
       "    <tr>\n",
       "      <th>1</th>\n",
       "      <td>0</td>\n",
       "      <td>0</td>\n",
       "      <td>0</td>\n",
       "      <td>0</td>\n",
       "      <td>0</td>\n",
       "      <td>0</td>\n",
       "      <td>0</td>\n",
       "      <td>0</td>\n",
       "      <td>0</td>\n",
       "      <td>1</td>\n",
       "      <td>0</td>\n",
       "      <td>0</td>\n",
       "      <td>0</td>\n",
       "      <td>0</td>\n",
       "    </tr>\n",
       "    <tr>\n",
       "      <th>2</th>\n",
       "      <td>0</td>\n",
       "      <td>0</td>\n",
       "      <td>0</td>\n",
       "      <td>0</td>\n",
       "      <td>0</td>\n",
       "      <td>0</td>\n",
       "      <td>0</td>\n",
       "      <td>0</td>\n",
       "      <td>0</td>\n",
       "      <td>0</td>\n",
       "      <td>1</td>\n",
       "      <td>0</td>\n",
       "      <td>0</td>\n",
       "      <td>0</td>\n",
       "    </tr>\n",
       "    <tr>\n",
       "      <th>3</th>\n",
       "      <td>0</td>\n",
       "      <td>0</td>\n",
       "      <td>0</td>\n",
       "      <td>0</td>\n",
       "      <td>0</td>\n",
       "      <td>0</td>\n",
       "      <td>0</td>\n",
       "      <td>0</td>\n",
       "      <td>0</td>\n",
       "      <td>0</td>\n",
       "      <td>0</td>\n",
       "      <td>0</td>\n",
       "      <td>0</td>\n",
       "      <td>1</td>\n",
       "    </tr>\n",
       "    <tr>\n",
       "      <th>4</th>\n",
       "      <td>1</td>\n",
       "      <td>0</td>\n",
       "      <td>0</td>\n",
       "      <td>0</td>\n",
       "      <td>0</td>\n",
       "      <td>0</td>\n",
       "      <td>0</td>\n",
       "      <td>0</td>\n",
       "      <td>0</td>\n",
       "      <td>0</td>\n",
       "      <td>0</td>\n",
       "      <td>0</td>\n",
       "      <td>0</td>\n",
       "      <td>0</td>\n",
       "    </tr>\n",
       "  </tbody>\n",
       "</table>\n",
       "</div>"
      ],
      "text/plain": [
       "   anger  boredom  empty  enthusiasm  fear  fun  happiness  hate  love  \\\n",
       "0      0        0      0           0     0    0          0     0     0   \n",
       "1      0        0      0           0     0    0          0     0     0   \n",
       "2      0        0      0           0     0    0          0     0     0   \n",
       "3      0        0      0           0     0    0          0     0     0   \n",
       "4      1        0      0           0     0    0          0     0     0   \n",
       "\n",
       "   neutral  relief  sadness  surprise  worry  \n",
       "0        1       0        0         0      0  \n",
       "1        1       0        0         0      0  \n",
       "2        0       1        0         0      0  \n",
       "3        0       0        0         0      1  \n",
       "4        0       0        0         0      0  "
      ]
     },
     "execution_count": 522,
     "metadata": {},
     "output_type": "execute_result"
    }
   ],
   "source": [
    "y_pandas_df = pd.get_dummies(train_df['sentiment'])\n",
    "print(type(y_pandas_df))\n",
    "print(y_pandas_df.shape)\n",
    "print(y_pandas_df.ndim)\n",
    "y_pandas_df.head()"
   ]
  },
  {
   "cell_type": "code",
   "execution_count": 523,
   "metadata": {},
   "outputs": [
    {
     "name": "stdout",
     "output_type": "stream",
     "text": [
      "properties of y\n",
      "type : <class 'numpy.ndarray'>, dimensions : 2, shape : (41724, 14), total no. of elements : 584136, data type of each element: uint8, size of each element 1 bytes\n"
     ]
    }
   ],
   "source": [
    "y = y_pandas_df.values\n",
    "print(\"properties of y\")\n",
    "print(\"type : {}, dimensions : {}, shape : {}, total no. of elements : {}, data type of each element: {}, size of each element {} bytes\".format(type(y), y.ndim, y.shape, y.size, y.dtype, y.itemsize))"
   ]
  },
  {
   "cell_type": "code",
   "execution_count": 524,
   "metadata": {},
   "outputs": [
    {
     "data": {
      "text/plain": [
       "(41724, 2)"
      ]
     },
     "execution_count": 524,
     "metadata": {},
     "output_type": "execute_result"
    }
   ],
   "source": [
    "train_df.shape"
   ]
  },
  {
   "cell_type": "code",
   "execution_count": 525,
   "metadata": {},
   "outputs": [],
   "source": [
    "train_df = train_df.drop(['sentiment'], axis=1)"
   ]
  },
  {
   "cell_type": "code",
   "execution_count": 526,
   "metadata": {},
   "outputs": [],
   "source": [
    "train_df.shape\n",
    "x = train_df.values.flatten()"
   ]
  },
  {
   "cell_type": "code",
   "execution_count": 527,
   "metadata": {},
   "outputs": [
    {
     "name": "stdout",
     "output_type": "stream",
     "text": [
      "[ '@NiftyKnits I was saying the same thing yesterday! So I droped 120 tweets! No the smarted thing bussiness wise, but can find real people!'\n",
      " 'Time to play the drums'\n",
      " '@jaderibeiro lol event management. no prerequisites' ...,\n",
      " \"@devenmiddleton i'm totally loving it, it just makes me sad when people feel super awful cuz they aren't abroad like life is still goin\"\n",
      " '@evienyc: Aww, that sux!  @Sitatara_x3: Eeek for Airline charges!!! (X_X)'\n",
      " '@wendywings cute   Time for a twitpic ;)']\n",
      "properties of x\n",
      "type : <class 'numpy.ndarray'>, dimensions : 1, shape : (41724,), total no. of elements : 41724, data type of each element: object, size of each element 8 bytes\n"
     ]
    }
   ],
   "source": [
    "print(x)\n",
    "print(\"properties of x\")\n",
    "print(\"type : {}, dimensions : {}, shape : {}, total no. of elements : {}, data type of each element: {}, size of each element {} bytes\".format(type(x), x.ndim, x.shape, x.size, x.dtype, x.itemsize))"
   ]
  },
  {
   "cell_type": "code",
   "execution_count": 528,
   "metadata": {},
   "outputs": [],
   "source": [
    "list_of_classes = ['anger', 'boredom', 'empty', 'enthusiasm', 'fear', 'fun', 'happiness', 'hate', 'love', 'neutral', 'relief', 'sadness', 'surprise', 'worry']\n",
    "max_features = 400\n",
    "max_text_length = 100\n",
    "embedding_dims = 50\n",
    "batch_size = 32\n",
    "epochs = 2\n",
    "num_filters_1 = 250\n",
    "num_filters_2 = 250\n",
    "filter_size = 3"
   ]
  },
  {
   "cell_type": "code",
   "execution_count": 529,
   "metadata": {},
   "outputs": [],
   "source": [
    "x_tokenizer = text.Tokenizer(num_words=max_features)\n",
    "x_tokenizer.fit_on_texts(list(x))\n",
    "x_tokenized = x_tokenizer.texts_to_sequences(x)\n",
    "x_train_val = sequence.pad_sequences(x_tokenized, maxlen=max_text_length)"
   ]
  },
  {
   "cell_type": "code",
   "execution_count": 530,
   "metadata": {},
   "outputs": [],
   "source": [
    "model = Sequential()\n",
    "\n",
    "model.add(Embedding(max_features, embedding_dims, input_length=max_text_length))\n",
    "model.add(Dropout(0.2))\n",
    "\n",
    "model.add(Conv1D(filters=num_filters_1, kernel_size=filter_size, padding='valid', activation='relu', strides=1))\n",
    "model.add(GlobalMaxPooling1D())\n",
    "\n",
    "model.add(Dense(num_filters_2))\n",
    "model.add(Dropout(0.2))\n",
    "model.add(Activation('relu'))\n",
    "\n",
    "model.add(Dense(14))\n",
    "model.add(Activation('sigmoid'))\n"
   ]
  },
  {
   "cell_type": "code",
   "execution_count": 532,
   "metadata": {},
   "outputs": [
    {
     "name": "stdout",
     "output_type": "stream",
     "text": [
      "_________________________________________________________________\n",
      "Layer (type)                 Output Shape              Param #   \n",
      "=================================================================\n",
      "embedding_1 (Embedding)      (None, 100, 50)           20000     \n",
      "_________________________________________________________________\n",
      "dropout_1 (Dropout)          (None, 100, 50)           0         \n",
      "_________________________________________________________________\n",
      "conv1d_1 (Conv1D)            (None, 98, 250)           37750     \n",
      "_________________________________________________________________\n",
      "global_max_pooling1d_1 (Glob (None, 250)               0         \n",
      "_________________________________________________________________\n",
      "dense_1 (Dense)              (None, 250)               62750     \n",
      "_________________________________________________________________\n",
      "dropout_2 (Dropout)          (None, 250)               0         \n",
      "_________________________________________________________________\n",
      "activation_1 (Activation)    (None, 250)               0         \n",
      "_________________________________________________________________\n",
      "dense_2 (Dense)              (None, 14)                3514      \n",
      "_________________________________________________________________\n",
      "activation_2 (Activation)    (None, 14)                0         \n",
      "=================================================================\n",
      "Total params: 124,014\n",
      "Trainable params: 124,014\n",
      "Non-trainable params: 0\n",
      "_________________________________________________________________\n"
     ]
    }
   ],
   "source": [
    "model.compile(optimizer='adam', loss='binary_crossentropy', metrics=['accuracy'])\n",
    "model.summary()"
   ]
  },
  {
   "cell_type": "code",
   "execution_count": 533,
   "metadata": {},
   "outputs": [
    {
     "name": "stdout",
     "output_type": "stream",
     "text": [
      "Epoch 1/2\n",
      "41724/41724 [==============================] - 187s - loss: 0.2282 - acc: 0.9281   \n",
      "Epoch 2/2\n",
      "41724/41724 [==============================] - 187s - loss: 0.2159 - acc: 0.9287   \n"
     ]
    },
    {
     "data": {
      "text/plain": [
       "<tensorflow.python.keras._impl.keras.callbacks.History at 0x1d0b4b35ba8>"
      ]
     },
     "execution_count": 533,
     "metadata": {},
     "output_type": "execute_result"
    }
   ],
   "source": [
    "model.fit(x_train_val, y, batch_size=batch_size, epochs=epochs)"
   ]
  },
  {
   "cell_type": "code",
   "execution_count": 534,
   "metadata": {},
   "outputs": [],
   "source": [
    "#model.save('emo_class_keras_model.h5')"
   ]
  },
  {
   "cell_type": "code",
   "execution_count": 541,
   "metadata": {},
   "outputs": [],
   "source": [
    "from tensorflow.python.keras.models import load_model\n",
    "\n",
    "def predict(x_text):\n",
    "    global x_tokenizer\n",
    "    model2 = load_model('emo_class_keras_model.h5')\n",
    "    x_test_tokenized = x_tokenizer.texts_to_sequences(x_text)\n",
    "    x_testing = sequence.pad_sequences(x_test_tokenized, maxlen=max_text_length)\n",
    "    y_testing = model2.predict(x_testing, verbose = 1)\n",
    "    return y_testing"
   ]
  },
  {
   "cell_type": "code",
   "execution_count": 542,
   "metadata": {},
   "outputs": [
    {
     "name": "stdout",
     "output_type": "stream",
     "text": [
      "22/22 [==============================] - 0s\n",
      "[[ 0.0809957   0.03298125  0.11698092  0.09021919  0.09136499  0.10028493\n",
      "   0.19377714  0.07490593  0.13695431  0.44008416  0.09835494  0.15060709\n",
      "   0.12043659  0.24537119]\n",
      " [ 0.07588125  0.03020046  0.10849314  0.08516537  0.08564604  0.09568779\n",
      "   0.19097957  0.07124434  0.13215058  0.42955291  0.09425044  0.14387973\n",
      "   0.11491831  0.24124403]\n",
      " [ 0.0809957   0.03298125  0.11698092  0.09021919  0.09136499  0.10028493\n",
      "   0.19377714  0.07490593  0.13695431  0.44008416  0.09835494  0.15060709\n",
      "   0.12043659  0.24537119]\n",
      " [ 0.07588125  0.03020046  0.10849314  0.08516537  0.08564604  0.09568779\n",
      "   0.19097957  0.07124434  0.13215058  0.42955291  0.09425044  0.14387973\n",
      "   0.11491831  0.24124403]\n",
      " [ 0.0809957   0.03298125  0.11698092  0.09021919  0.09136499  0.10028493\n",
      "   0.19377714  0.07490593  0.13695431  0.44008416  0.09835494  0.15060709\n",
      "   0.12043659  0.24537119]\n",
      " [ 0.07588125  0.03020046  0.10849314  0.08516537  0.08564604  0.09568779\n",
      "   0.19097957  0.07124434  0.13215058  0.42955291  0.09425044  0.14387973\n",
      "   0.11491831  0.24124403]\n",
      " [ 0.0809957   0.03298125  0.11698092  0.09021919  0.09136499  0.10028493\n",
      "   0.19377714  0.07490593  0.13695431  0.44008416  0.09835494  0.15060709\n",
      "   0.12043659  0.24537119]\n",
      " [ 0.0809957   0.03298125  0.11698092  0.09021919  0.09136499  0.10028493\n",
      "   0.19377714  0.07490593  0.13695431  0.44008416  0.09835494  0.15060709\n",
      "   0.12043659  0.24537119]\n",
      " [ 0.0809957   0.03298125  0.11698092  0.09021919  0.09136499  0.10028493\n",
      "   0.19377714  0.07490593  0.13695431  0.44008416  0.09835494  0.15060709\n",
      "   0.12043659  0.24537119]\n",
      " [ 0.07156051  0.02767077  0.10224245  0.07854021  0.08110617  0.08904983\n",
      "   0.1772882   0.07100175  0.12305205  0.42324695  0.08410323  0.14225942\n",
      "   0.10926425  0.24293478]\n",
      " [ 0.0809957   0.03298125  0.11698092  0.09021919  0.09136499  0.10028493\n",
      "   0.19377714  0.07490593  0.13695431  0.44008416  0.09835494  0.15060709\n",
      "   0.12043659  0.24537119]\n",
      " [ 0.0809957   0.03298125  0.11698092  0.09021919  0.09136499  0.10028493\n",
      "   0.19377714  0.07490593  0.13695431  0.44008416  0.09835494  0.15060709\n",
      "   0.12043659  0.24537119]\n",
      " [ 0.07156051  0.02767077  0.10224245  0.07854021  0.08110617  0.08904983\n",
      "   0.1772882   0.07100175  0.12305205  0.42324695  0.08410323  0.14225942\n",
      "   0.10926425  0.24293478]\n",
      " [ 0.0809957   0.03298125  0.11698092  0.09021919  0.09136499  0.10028493\n",
      "   0.19377714  0.07490593  0.13695431  0.44008416  0.09835494  0.15060709\n",
      "   0.12043659  0.24537119]\n",
      " [ 0.0809957   0.03298125  0.11698092  0.09021919  0.09136499  0.10028493\n",
      "   0.19377714  0.07490593  0.13695431  0.44008416  0.09835494  0.15060709\n",
      "   0.12043659  0.24537119]\n",
      " [ 0.0809957   0.03298125  0.11698092  0.09021919  0.09136499  0.10028493\n",
      "   0.19377714  0.07490593  0.13695431  0.44008416  0.09835494  0.15060709\n",
      "   0.12043659  0.24537119]\n",
      " [ 0.07642648  0.03020168  0.10950537  0.08434705  0.08747102  0.09568401\n",
      "   0.18921928  0.07157363  0.13164695  0.43132958  0.09295811  0.14396949\n",
      "   0.1154433   0.24339181]\n",
      " [ 0.0809957   0.03298125  0.11698092  0.09021919  0.09136499  0.10028493\n",
      "   0.19377714  0.07490593  0.13695431  0.44008416  0.09835494  0.15060709\n",
      "   0.12043659  0.24537119]\n",
      " [ 0.0809957   0.03298125  0.11698092  0.09021919  0.09136499  0.10028493\n",
      "   0.19377714  0.07490593  0.13695431  0.44008416  0.09835494  0.15060709\n",
      "   0.12043659  0.24537119]\n",
      " [ 0.07642648  0.03020168  0.10950537  0.08434705  0.08747102  0.09568401\n",
      "   0.18921928  0.07157363  0.13164695  0.43132958  0.09295811  0.14396949\n",
      "   0.1154433   0.24339181]\n",
      " [ 0.07642648  0.03020168  0.10950537  0.08434705  0.08747102  0.09568401\n",
      "   0.18921928  0.07157363  0.13164695  0.43132958  0.09295811  0.14396949\n",
      "   0.1154433   0.24339181]\n",
      " [ 0.0809957   0.03298125  0.11698092  0.09021919  0.09136499  0.10028493\n",
      "   0.19377714  0.07490593  0.13695431  0.44008416  0.09835494  0.15060709\n",
      "   0.1204366   0.24537122]]\n"
     ]
    }
   ],
   "source": [
    "print(predict('hahaha this is so good'))"
   ]
  },
  {
   "cell_type": "code",
   "execution_count": null,
   "metadata": {},
   "outputs": [],
   "source": []
  }
 ],
 "metadata": {
  "kernelspec": {
   "display_name": "Python 3",
   "language": "python",
   "name": "python3"
  },
  "language_info": {
   "codemirror_mode": {
    "name": "ipython",
    "version": 3
   },
   "file_extension": ".py",
   "mimetype": "text/x-python",
   "name": "python",
   "nbconvert_exporter": "python",
   "pygments_lexer": "ipython3",
   "version": "3.6.3"
  }
 },
 "nbformat": 4,
 "nbformat_minor": 2
}
